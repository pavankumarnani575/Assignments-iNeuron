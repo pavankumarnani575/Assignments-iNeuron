{
 "cells": [
  {
   "cell_type": "markdown",
   "metadata": {},
   "source": [
    "### 1.Write a function to compute 5/0 and use try/except to catch the exception"
   ]
  },
  {
   "cell_type": "code",
   "execution_count": 1,
   "metadata": {},
   "outputs": [],
   "source": [
    "def compute(a,b):\n",
    "    try:    \n",
    "        return a/b\n",
    "    except:\n",
    "        print(\"Denominator (b) should not be zero\")"
   ]
  },
  {
   "cell_type": "code",
   "execution_count": 2,
   "metadata": {},
   "outputs": [
    {
     "name": "stdout",
     "output_type": "stream",
     "text": [
      "Denominator (b) should not be zero\n"
     ]
    }
   ],
   "source": [
    "compute(5,0)"
   ]
  },
  {
   "cell_type": "markdown",
   "metadata": {},
   "source": [
    "### 2. Implement a Python program to generate all sentences where subject is in [\"Americans\", \"Indians\"] and verb is in [\"Play\", \"watch\"] and the object is in [\"Baseball\",\"cricket\"].\n",
    "#### Hint: Subject,Verb and Object should be declared in the program as shown below.\n",
    "#### subjects=[\"Americans \",\"Indians\"]\n",
    "#### verbs=[\"play\",\"watch\"]\n",
    "#### objects=[\"Baseball\",\"Cricket\"]\n",
    "#### Output should come as below:\n",
    "#### Americans play Baseball.\n",
    "#### Americans play Cricket.\n",
    "#### Americans watch Baseball.\n",
    "#### Americans watch Cricket.\n",
    "#### Indians play Baseball.\n",
    "#### Indians play Cricket.\n",
    "#### Indians watch Baseball.\n",
    "#### Indians watch Cricket"
   ]
  },
  {
   "cell_type": "code",
   "execution_count": 3,
   "metadata": {},
   "outputs": [
    {
     "name": "stdout",
     "output_type": "stream",
     "text": [
      "Americans play Baseball\n",
      "Americans play Cricket\n",
      "Americans watch Baseball\n",
      "Americans watch Cricket\n",
      "Indians play Baseball\n",
      "Indians play Cricket\n",
      "Indians watch Baseball\n",
      "Indians watch Cricket\n"
     ]
    }
   ],
   "source": [
    "subjects=[\"Americans\",\"Indians\"]\n",
    "verbs=[\"play\",\"watch\"]\n",
    "objects=[\"Baseball\",\"Cricket\"]\n",
    "for subject in subjects:\n",
    "    for verb in verbs:\n",
    "        for object_ in objects:\n",
    "            print(subject,verb,object_)"
   ]
  },
  {
   "cell_type": "code",
   "execution_count": null,
   "metadata": {},
   "outputs": [],
   "source": []
  }
 ],
 "metadata": {
  "kernelspec": {
   "display_name": "Python 3",
   "language": "python",
   "name": "python3"
  },
  "language_info": {
   "codemirror_mode": {
    "name": "ipython",
    "version": 3
   },
   "file_extension": ".py",
   "mimetype": "text/x-python",
   "name": "python",
   "nbconvert_exporter": "python",
   "pygments_lexer": "ipython3",
   "version": "3.7.6"
  }
 },
 "nbformat": 4,
 "nbformat_minor": 4
}
