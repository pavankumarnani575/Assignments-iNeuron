{
 "cells": [
  {
   "cell_type": "markdown",
   "metadata": {},
   "source": [
    "### 1.1 Write a Python Program(with class concepts) to find the area of the triangle using the below\n",
    "### formula : area = (s*(s-a)*(s-b)*(s-c)) ** 0.5\n",
    "### Function to take the length of the sides of triangle from user should be defined in the parent class and function to calculate the area should be defined in subclass"
   ]
  },
  {
   "cell_type": "code",
   "execution_count": 1,
   "metadata": {},
   "outputs": [
    {
     "name": "stdout",
     "output_type": "stream",
     "text": [
      "Enter the value of a :5\n",
      "Enter the value of b :4\n",
      "Enter the value of c :3\n"
     ]
    }
   ],
   "source": [
    "class Triangle_sides:\n",
    "    def __init__(self,a,b,c):\n",
    "        self.a=a\n",
    "        self.b=b\n",
    "        self.c=c\n",
    "a=float(input(\"Enter the value of a :\"))\n",
    "b=float(input(\"Enter the value of b :\"))\n",
    "c=float(input(\"Enter the value of c :\"))"
   ]
  },
  {
   "cell_type": "code",
   "execution_count": 2,
   "metadata": {},
   "outputs": [
    {
     "name": "stdout",
     "output_type": "stream",
     "text": [
      "Areaof the Triangle =  6.0\n"
     ]
    }
   ],
   "source": [
    "class Triangle_area(Triangle_sides):\n",
    "    def __init__(self):\n",
    "        super().__init__(a,b,c)\n",
    "    def area(self):\n",
    "        s=(a+b+c)/2\n",
    "        ar=(s*(s-a)*(s-b)*(s-c))**0.5\n",
    "        return ar\n",
    "triangle_area=Triangle_area()\n",
    "print('Areaof the Triangle = ',triangle_area.area())"
   ]
  },
  {
   "cell_type": "markdown",
   "metadata": {},
   "source": [
    "### 1.2 Write a function filter_long_words() that takes a list of words and an integer n and returns the list of words that are longer than n."
   ]
  },
  {
   "cell_type": "code",
   "execution_count": 3,
   "metadata": {},
   "outputs": [],
   "source": [
    "text='Write a function filter_long_words() that takes a list of words and an integer n and returns the list of words that are longer than n'\n",
    "l=text.split()"
   ]
  },
  {
   "cell_type": "code",
   "execution_count": 4,
   "metadata": {},
   "outputs": [],
   "source": [
    "def filter_long_words(l,n):\n",
    "    return list(filter(lambda x:len(x)>n,l))"
   ]
  },
  {
   "cell_type": "code",
   "execution_count": 5,
   "metadata": {},
   "outputs": [
    {
     "data": {
      "text/plain": [
       "['Write',\n",
       " 'function',\n",
       " 'filter_long_words()',\n",
       " 'takes',\n",
       " 'words',\n",
       " 'integer',\n",
       " 'returns',\n",
       " 'words',\n",
       " 'longer']"
      ]
     },
     "execution_count": 5,
     "metadata": {},
     "output_type": "execute_result"
    }
   ],
   "source": [
    "filter_long_words(l,4)"
   ]
  },
  {
   "cell_type": "markdown",
   "metadata": {},
   "source": [
    "### 2.1 Write a Python program using function concept that maps list of words into a list of integers representing the lengths of the corresponding words."
   ]
  },
  {
   "cell_type": "code",
   "execution_count": 6,
   "metadata": {},
   "outputs": [],
   "source": [
    "def length_0f_words(l):\n",
    "    return list(map(lambda x:len(x),l))"
   ]
  },
  {
   "cell_type": "code",
   "execution_count": 7,
   "metadata": {},
   "outputs": [
    {
     "data": {
      "text/plain": [
       "[5, 1, 8, 19, 4, 5, 1, 4, 2, 5, 3, 2, 7, 1, 3, 7, 3, 4, 2, 5, 4, 3, 6, 4, 1]"
      ]
     },
     "execution_count": 7,
     "metadata": {},
     "output_type": "execute_result"
    }
   ],
   "source": [
    "length_0f_words(l)"
   ]
  },
  {
   "cell_type": "markdown",
   "metadata": {},
   "source": [
    "### 2.2 Write a Python function which takes a character (i.e. a string of length 1) and returns True if it is a vowel, False otherwise."
   ]
  },
  {
   "cell_type": "code",
   "execution_count": 8,
   "metadata": {},
   "outputs": [],
   "source": [
    "def isVowel(c):\n",
    "    if c in ['a','e','i','o','u']:\n",
    "        return True\n",
    "    else:\n",
    "        return False"
   ]
  },
  {
   "cell_type": "code",
   "execution_count": 9,
   "metadata": {},
   "outputs": [
    {
     "name": "stdout",
     "output_type": "stream",
     "text": [
      "{'W': False}|{'r': False}|{'i': True}|{'t': False}|{'e': True}|{' ': False}|{'a': True}|{' ': False}|{'P': False}|{'y': False}|{'t': False}|{'h': False}|{'o': True}|{'n': False}|{' ': False}|{'f': False}|{'u': True}|{'n': False}|{'c': False}|{'t': False}|{'i': True}|{'o': True}|{'n': False}|{' ': False}|{'w': False}|{'h': False}|{'i': True}|{'c': False}|{'h': False}|{' ': False}|{'t': False}|{'a': True}|{'k': False}|{'e': True}|{'s': False}|{' ': False}|{'a': True}|{' ': False}|{'c': False}|{'h': False}|{'a': True}|{'r': False}|{'a': True}|{'c': False}|{'t': False}|{'e': True}|{'r': False}|"
     ]
    }
   ],
   "source": [
    "t='Write a Python function which takes a character'\n",
    "for char in t:\n",
    "    print({char:isVowel(char)},end='|')"
   ]
  }
 ],
 "metadata": {
  "kernelspec": {
   "display_name": "Python 3",
   "language": "python",
   "name": "python3"
  },
  "language_info": {
   "codemirror_mode": {
    "name": "ipython",
    "version": 3
   },
   "file_extension": ".py",
   "mimetype": "text/x-python",
   "name": "python",
   "nbconvert_exporter": "python",
   "pygments_lexer": "ipython3",
   "version": "3.7.6"
  }
 },
 "nbformat": 4,
 "nbformat_minor": 4
}
